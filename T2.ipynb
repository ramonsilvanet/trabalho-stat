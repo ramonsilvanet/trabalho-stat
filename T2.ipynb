{
 "cells": [
  {
   "cell_type": "code",
   "execution_count": 15,
   "metadata": {
    "collapsed": true
   },
   "outputs": [],
   "source": [
    "f <- function(x){ (1/sqrt(2*pi))^(((x-2)^2)/2)}"
   ]
  },
  {
   "cell_type": "code",
   "execution_count": 19,
   "metadata": {
    "collapsed": true
   },
   "outputs": [],
   "source": [
    "MonteCarlo <- function(n, f){\n",
    "    X <- runif(n)\n",
    "    Y <- f(X)\n",
    "    Intgr <- sum(Y)/n\n",
    "    Error <- Intgr-(pnorm(1)-pnorm(0))\n",
    "    list(\"Result=\" = Intgr,\"Error=\" = Error)\n",
    "}"
   ]
  },
  {
   "cell_type": "code",
   "execution_count": 20,
   "metadata": {},
   "outputs": [
    {
     "data": {
      "text/html": [
       "<dl>\n",
       "\t<dt>$`Result=`</dt>\n",
       "\t\t<dd>0.369016766335879</dd>\n",
       "\t<dt>$`Error=`</dt>\n",
       "\t\t<dd>0.0276720202673362</dd>\n",
       "</dl>\n"
      ],
      "text/latex": [
       "\\begin{description}\n",
       "\\item[\\$`Result=`] 0.369016766335879\n",
       "\\item[\\$`Error=`] 0.0276720202673362\n",
       "\\end{description}\n"
      ],
      "text/markdown": [
       "$`Result=`\n",
       ":   0.369016766335879\n",
       "$`Error=`\n",
       ":   0.0276720202673362\n",
       "\n",
       "\n"
      ],
      "text/plain": [
       "$`Result=`\n",
       "[1] 0.3690168\n",
       "\n",
       "$`Error=`\n",
       "[1] 0.02767202\n"
      ]
     },
     "metadata": {},
     "output_type": "display_data"
    }
   ],
   "source": [
    "MonteCarlo(100000, f)"
   ]
  }
 ],
 "metadata": {
  "kernelspec": {
   "display_name": "R",
   "language": "R",
   "name": "ir"
  },
  "language_info": {
   "codemirror_mode": "r",
   "file_extension": ".r",
   "mimetype": "text/x-r-source",
   "name": "R",
   "pygments_lexer": "r",
   "version": "3.3.2"
  }
 },
 "nbformat": 4,
 "nbformat_minor": 2
}
