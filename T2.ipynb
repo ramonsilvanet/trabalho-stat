{
 "cells": [
  {
   "cell_type": "code",
   "execution_count": 2,
   "metadata": {
    "collapsed": true
   },
   "outputs": [],
   "source": [
    "Integral <- function(n){\n",
    "    X <- runif(n)\n",
    "    Y <- (1/sqrt(2*pi))^(((X-2)^2)/2)\n",
    "    Intgr <- sum(Y)/n\n",
    "    Error <- Intgr-(pnorm(1)-pnorm(0))\n",
    "    list(Int,Error)\n",
    "}"
   ]
  },
  {
   "cell_type": "code",
   "execution_count": 20,
   "metadata": {},
   "outputs": [
    {
     "data": {
      "text/html": [
       "<ol>\n",
       "\t<li>0.339295837403</li>\n",
       "\t<li>-0.00204890866554319</li>\n",
       "</ol>\n"
      ],
      "text/latex": [
       "\\begin{enumerate}\n",
       "\\item 0.339295837403\n",
       "\\item -0.00204890866554319\n",
       "\\end{enumerate}\n"
      ],
      "text/markdown": [
       "1. 0.339295837403\n",
       "2. -0.00204890866554319\n",
       "\n",
       "\n"
      ],
      "text/plain": [
       "[[1]]\n",
       "[1] 0.3392958\n",
       "\n",
       "[[2]]\n",
       "[1] -0.002048909\n"
      ]
     },
     "metadata": {},
     "output_type": "display_data"
    }
   ],
   "source": [
    "Integral(10000)"
   ]
  }
 ],
 "metadata": {
  "kernelspec": {
   "display_name": "R",
   "language": "R",
   "name": "ir"
  },
  "language_info": {
   "codemirror_mode": "r",
   "file_extension": ".r",
   "mimetype": "text/x-r-source",
   "name": "R",
   "pygments_lexer": "r",
   "version": "3.3.2"
  }
 },
 "nbformat": 4,
 "nbformat_minor": 2
}
