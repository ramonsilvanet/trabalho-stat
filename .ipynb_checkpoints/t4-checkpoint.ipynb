{
 "cells": [
  {
   "cell_type": "code",
   "execution_count": 1,
   "metadata": {
    "collapsed": true
   },
   "outputs": [],
   "source": [
    "mc.mean <<- 10\n",
    "mc.sd <<- 3"
   ]
  },
  {
   "cell_type": "code",
   "execution_count": 20,
   "metadata": {
    "collapsed": true
   },
   "outputs": [],
   "source": [
    "mc.integral <- function(n, f){\n",
    "    X <- runif(n, 0, 1)\n",
    "    Y <- f(X)\n",
    "    Intgr <- sum(Y)/n\n",
    "    Error <- Intgr-(pnorm(1,mean = mc.mean, sd = mc.sd)-pnorm(0,mean = mc.mean, sd = mc.sd))\n",
    "    list(\"Result=\" = Intgr,\"Error=\" = Error)\n",
    "}"
   ]
  },
  {
   "cell_type": "code",
   "execution_count": 23,
   "metadata": {
    "collapsed": true
   },
   "outputs": [],
   "source": [
    "mc.f <- function(X){ (exp(-(X-mc.mean)^2/2*mc.sd^2)/sqrt(2*pi)*mc.sd) }"
   ]
  },
  {
   "cell_type": "code",
   "execution_count": 24,
   "metadata": {},
   "outputs": [
    {
     "data": {
      "text/html": [
       "<dl>\n",
       "\t<dt>$`Result=`</dt>\n",
       "\t\t<dd>7.10024362273302e-161</dd>\n",
       "\t<dt>$`Error=`</dt>\n",
       "\t\t<dd>-0.000920837698433257</dd>\n",
       "</dl>\n"
      ],
      "text/latex": [
       "\\begin{description}\n",
       "\\item[\\$`Result=`] 7.10024362273302e-161\n",
       "\\item[\\$`Error=`] -0.000920837698433257\n",
       "\\end{description}\n"
      ],
      "text/markdown": [
       "$`Result=`\n",
       ":   7.10024362273302e-161\n",
       "$`Error=`\n",
       ":   -0.000920837698433257\n",
       "\n",
       "\n"
      ],
      "text/plain": [
       "$`Result=`\n",
       "[1] 7.100244e-161\n",
       "\n",
       "$`Error=`\n",
       "[1] -0.0009208377\n"
      ]
     },
     "metadata": {},
     "output_type": "display_data"
    }
   ],
   "source": [
    "mc.integral(1000000, mc.f)"
   ]
  }
 ],
 "metadata": {
  "kernelspec": {
   "display_name": "R",
   "language": "R",
   "name": "ir"
  },
  "language_info": {
   "codemirror_mode": "r",
   "file_extension": ".r",
   "mimetype": "text/x-r-source",
   "name": "R",
   "pygments_lexer": "r",
   "version": "3.3.2"
  }
 },
 "nbformat": 4,
 "nbformat_minor": 2
}
