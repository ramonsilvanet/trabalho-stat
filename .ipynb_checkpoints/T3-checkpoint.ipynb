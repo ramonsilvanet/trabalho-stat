{
 "cells": [
  {
   "cell_type": "code",
   "execution_count": 1,
   "metadata": {
    "collapsed": true
   },
   "outputs": [],
   "source": [
    "MonteCarlo <- function(n, f){\n",
    "    X <- runif(n)\n",
    "    Y <- f(X)\n",
    "    Intgr <- sum(Y)/n\n",
    "    Error <- Intgr-(pnorm(1)-pnorm(0))\n",
    "    list(\"Result=\" = Intgr,\"Error=\" = Error)\n",
    "}"
   ]
  },
  {
   "cell_type": "code",
   "execution_count": 15,
   "metadata": {},
   "outputs": [],
   "source": [
    "f <- function(X){   }"
   ]
  },
  {
   "cell_type": "code",
   "execution_count": 10,
   "metadata": {},
   "outputs": [
    {
     "ename": "ERROR",
     "evalue": "Error in exp(1/(sqrt(2 * pi) * 3), base = ((X - 10)^2)/18): 2 argumentos passados para 'exp', que requer 1\n",
     "output_type": "error",
     "traceback": [
      "Error in exp(1/(sqrt(2 * pi) * 3), base = ((X - 10)^2)/18): 2 argumentos passados para 'exp', que requer 1\nTraceback:\n",
      "1. MonteCarlo(1e+05, f)",
      "2. f(X)   # at line 3 of file <text>"
     ]
    }
   ],
   "source": [
    "MonteCarlo(100000, f)"
   ]
  },
  {
   "cell_type": "code",
   "execution_count": 11,
   "metadata": {
    "collapsed": true
   },
   "outputs": [],
   "source": [
    "help(exp)"
   ]
  }
 ],
 "metadata": {
  "kernelspec": {
   "display_name": "R",
   "language": "R",
   "name": "ir"
  },
  "language_info": {
   "codemirror_mode": "r",
   "file_extension": ".r",
   "mimetype": "text/x-r-source",
   "name": "R",
   "pygments_lexer": "r",
   "version": "3.3.2"
  }
 },
 "nbformat": 4,
 "nbformat_minor": 2
}
